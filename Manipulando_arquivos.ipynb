{
 "cells": [
  {
   "cell_type": "markdown",
   "metadata": {},
   "source": [
    "# Trabalhando com arquivos \n",
    "\n",
    "* As variáveis são uma maneira conveniente de armazenar dados enquanto seu programa estiver executando, porém, se quiser que seus dados persistam mesmo após o programa ter encerrado, será necessário salvá-los em um arquivo.\n",
    "\n",
    "\n",
    "* Podemos pensar no conteúdo de um arquivo como um único valor de `string`, potencialmente com gigabytes de tamanho."
   ]
  },
  {
   "cell_type": "markdown",
   "metadata": {},
   "source": [
    "### Objetivos\n",
    "\n",
    "* Manipulação básica de arquivos. \n",
    "\n",
    "\n",
    "* Aprender a abrir um arquivo, gravar informações nele e também a ler informações dele."
   ]
  },
  {
   "cell_type": "markdown",
   "metadata": {},
   "source": [
    "### Conceitos\n",
    "\n",
    "* Um arquivo tem duas propriedades fundamentais: um **nome de arquivo** e um **path**.\n",
    "\n",
    "\n",
    "* O path especifica a localização de um arquivo no computador."
   ]
  },
  {
   "cell_type": "code",
   "execution_count": 1,
   "metadata": {},
   "outputs": [],
   "source": [
    "import os"
   ]
  },
  {
   "cell_type": "markdown",
   "metadata": {},
   "source": [
    "* Utilizaremos o módulo `os` do Python nessa primeira fase. \n",
    "\n",
    "\n",
    "* Seu principal uso é criar pastas, remover pastas, mover pastas e, às vezes, alterar o diretório de trabalho."
   ]
  },
  {
   "cell_type": "markdown",
   "metadata": {},
   "source": [
    "## 1. Conhecendo o ambiente"
   ]
  },
  {
   "cell_type": "markdown",
   "metadata": {},
   "source": [
    "### Em qual diretório eu estou?"
   ]
  },
  {
   "cell_type": "code",
   "execution_count": null,
   "metadata": {},
   "outputs": [],
   "source": [
    "getDir = os.getcwd()\n",
    "getDir"
   ]
  },
  {
   "cell_type": "markdown",
   "metadata": {},
   "source": [
    "### Como faço para criar um novo diretório?"
   ]
  },
  {
   "cell_type": "code",
   "execution_count": 3,
   "metadata": {},
   "outputs": [],
   "source": [
    "newDir = getDir + '/novo_diretorio'\n",
    "os.makedirs(newDir)"
   ]
  },
  {
   "cell_type": "code",
   "execution_count": 4,
   "metadata": {
    "scrolled": true
   },
   "outputs": [
    {
     "name": "stdout",
     "output_type": "stream",
     "text": [
      "Documentos_PDF.ipynb        \u001b[1m\u001b[36mdata\u001b[m\u001b[m/\r\n",
      "Enviando_e-mails.ipynb      \u001b[1m\u001b[36mmyenv\u001b[m\u001b[m/\r\n",
      "Manipulando_arquivos.ipynb  \u001b[1m\u001b[36mnovo_diretorio\u001b[m\u001b[m/\r\n",
      "README.md                   \u001b[1m\u001b[36mweb-notebooks\u001b[m\u001b[m/\r\n"
     ]
    }
   ],
   "source": [
    "ls"
   ]
  },
  {
   "cell_type": "markdown",
   "metadata": {},
   "source": [
    "### Como faço para verificar se um diretório já foi criado?"
   ]
  },
  {
   "cell_type": "code",
   "execution_count": 5,
   "metadata": {},
   "outputs": [
    {
     "data": {
      "text/plain": [
       "True"
      ]
     },
     "execution_count": 5,
     "metadata": {},
     "output_type": "execute_result"
    }
   ],
   "source": [
    "os.path.exists(newDir)"
   ]
  },
  {
   "cell_type": "markdown",
   "metadata": {},
   "source": [
    "### Como faço para renomear um diretório?"
   ]
  },
  {
   "cell_type": "code",
   "execution_count": 6,
   "metadata": {},
   "outputs": [],
   "source": [
    "os.rename(newDir,'newDir2')"
   ]
  },
  {
   "cell_type": "code",
   "execution_count": 7,
   "metadata": {},
   "outputs": [
    {
     "name": "stdout",
     "output_type": "stream",
     "text": [
      "Documentos_PDF.ipynb        \u001b[1m\u001b[36mdata\u001b[m\u001b[m/\r\n",
      "Enviando_e-mails.ipynb      \u001b[1m\u001b[36mmyenv\u001b[m\u001b[m/\r\n",
      "Manipulando_arquivos.ipynb  \u001b[1m\u001b[36mnewDir2\u001b[m\u001b[m/\r\n",
      "README.md                   \u001b[1m\u001b[36mweb-notebooks\u001b[m\u001b[m/\r\n"
     ]
    }
   ],
   "source": [
    "ls"
   ]
  },
  {
   "cell_type": "markdown",
   "metadata": {},
   "source": [
    "### Como faço para remover um diretório?"
   ]
  },
  {
   "cell_type": "code",
   "execution_count": 8,
   "metadata": {},
   "outputs": [],
   "source": [
    "os.rmdir('newDir2')"
   ]
  },
  {
   "cell_type": "code",
   "execution_count": 9,
   "metadata": {},
   "outputs": [
    {
     "name": "stdout",
     "output_type": "stream",
     "text": [
      "Documentos_PDF.ipynb        \u001b[1m\u001b[36mdata\u001b[m\u001b[m/\r\n",
      "Enviando_e-mails.ipynb      \u001b[1m\u001b[36mmyenv\u001b[m\u001b[m/\r\n",
      "Manipulando_arquivos.ipynb  \u001b[1m\u001b[36mweb-notebooks\u001b[m\u001b[m/\r\n",
      "README.md\r\n"
     ]
    }
   ],
   "source": [
    "ls"
   ]
  },
  {
   "cell_type": "markdown",
   "metadata": {},
   "source": [
    "## 2. Manipulando arquivos"
   ]
  },
  {
   "cell_type": "markdown",
   "metadata": {},
   "source": [
    "Nesta seção, iremos utilizar funções para leitura e escrita de arquivos no formato txt."
   ]
  },
  {
   "cell_type": "markdown",
   "metadata": {},
   "source": [
    "### Qual função eu utilizo para abrir um arquivo e ver seu conteúdo?"
   ]
  },
  {
   "cell_type": "code",
   "execution_count": 10,
   "metadata": {},
   "outputs": [
    {
     "data": {
      "text/plain": [
       "'O narrador recorda-se do seu primeiro desenho de crianca, tentativa frustrada de os adultos entender o mundo infantil ou o mundo das pessoas de alma pura. \\nEle havia desenhado um elefante engolido por uma jiboia, porem os adultos so diziam que era um chapeu. \\nQuando cresceu, testava o grau de lucidez das pessoas, mostrando-lhes o desenho e todas respondiam a mesma coisa. \\nPor causa disto, viveu sem amigos com os quais pudesse realmente conversar. Pelas decepcoes com os desenhos, escolhera a profissao de Piloto e, em certo dia, houve uma pane em seu aviao, vindo a cair no Deserto de Saara. \\nNa primeira noite, ele adormeceu sobre a areia. \\nAo despertar do dia, uma voz estranha o acordou, pedindo para que ele desenhasse um carneiro. Era um pedacinho de gente, um rapazinho de cabelos dourados, o Pequeno Principe. \\nO narrador mostrou-lhe o seu desenho. \\nO Pequeno Principe disse-lhe que nao queria um elefante engolido por uma jiboia e sim um carneiro. Ele teve dificuldades para desenha-lo, pois fora desencorajado de desenhar quando era pequeno. Depois de varias tentativas, teve a ideia de desenha-lo dentro de uma caixa. \\nPara surpresa do narrador, o Pequeno aceitou o desenho. Foi deste modo que o narrador travou conhecimentos com o Pequeno Principe. \\nEle contou-lhe que viera de um planeta, do qual o narrador imaginou ser o asteroide B612, visto pelo telescopio uma unica vez, em 1909, por um astronomo turco. \\nO pequeno Planeta era do tamanho de uma casa. \\nO Pequeno Principe contou o drama que ele vivia, em seu Planeta, com o baoba, arvore que cresce muito; por este motivo, ele precisava de um carneiro para comer os baobas enquanto eram pequenos. Atraves do Pequeno Principe, o narrador aprendeu a dar valor as pequenas coisas do dia-a-dia; admirar o por-do-sol, apreciar a beleza de uma flor, contemplar as estrelas? \\nEle acreditava que o pequeno havia viajado, segurando nas penas dos passaros selvagens, que emigravam. \\nO Principe conta-lhe as suas aventuras em varios outros planetas: o primeiro era habitado por apenas um rei; o segundo, por um vaidoso; o terceiro, por um bebado; o quarto, por um homem de negocios; o quinto, um acendedor de lampiao; no sexto, um velho geografo que escrevia livros enormes, e, por ultimo, ele visitou o nosso Planeta Terra, onde encontrou uma serpente, que lhe prometeu manda-lo de volta ao seu planeta, atraves de uma picada. \\nNo oitavo dia da pane, o narrador havia bebido o ultimo gole de agua e, por este motivo, caminharam ate que encontraram um poco. Este poco era perto do local onde o Pequeno Principe teria que voltar ao seu planeta. \\nA partida dele seria no dia seguinte. \\nFalou-lhe, tambem, que a serpente havia combinado com ele de aparecer na hora exata para pica-lo. \\nO narrador ficou triste, ao saber disto, porque tomara afeicao ao Pequeno. \\nO Principe lhe disse para que nao sofresse, quando constatasse que o corpo dele estivesse inerte, afirmando que devemos saber olhar alem das simples aparencias. \\nNao havia outra forma de ele viajar, pois o seu corpo, no estado em que se encontrava, era muito pesado. \\nPrecisava da picada para que se tornasse mais leve. \\nChegado o momento do encontro com a serpente, o Pequeno Principe nao gritou. Aceitou corajosamente o seu destino. \\nTombou como uma arvore tomba. \\nE assim, voltou para o seu planeta, enfim. O narrador, dias mais tarde, conseguiu se salvar, sentindo-se consolado porque sabia que o Pequeno Principe havia voltado para o planeta dele, pois ao raiar do dia seguinte a picada, o corpo do Pequeno nao estava mais no local. \\nHoje, ao olhar as estrelas, o narrador sorri, lembrando-se do seu grande Pequeno amigo.\\n'"
      ]
     },
     "execution_count": 10,
     "metadata": {},
     "output_type": "execute_result"
    }
   ],
   "source": [
    "bookFile = open('data/pequenoprincipe.txt')\n",
    "contentFile = bookFile.read()\n",
    "contentFile"
   ]
  },
  {
   "cell_type": "markdown",
   "metadata": {},
   "source": [
    "### Qual função eu utilizo para abrir um arquivo e visualizar por linhas?\n",
    "\n",
    "A função me retorna uma lista de strings onde cada posição é uma linha do arquivo"
   ]
  },
  {
   "cell_type": "code",
   "execution_count": 11,
   "metadata": {},
   "outputs": [
    {
     "data": {
      "text/plain": [
       "['O narrador recorda-se do seu primeiro desenho de crianca, tentativa frustrada de os adultos entender o mundo infantil ou o mundo das pessoas de alma pura. \\n',\n",
       " 'Ele havia desenhado um elefante engolido por uma jiboia, porem os adultos so diziam que era um chapeu. \\n',\n",
       " 'Quando cresceu, testava o grau de lucidez das pessoas, mostrando-lhes o desenho e todas respondiam a mesma coisa. \\n',\n",
       " 'Por causa disto, viveu sem amigos com os quais pudesse realmente conversar. Pelas decepcoes com os desenhos, escolhera a profissao de Piloto e, em certo dia, houve uma pane em seu aviao, vindo a cair no Deserto de Saara. \\n',\n",
       " 'Na primeira noite, ele adormeceu sobre a areia. \\n',\n",
       " 'Ao despertar do dia, uma voz estranha o acordou, pedindo para que ele desenhasse um carneiro. Era um pedacinho de gente, um rapazinho de cabelos dourados, o Pequeno Principe. \\n',\n",
       " 'O narrador mostrou-lhe o seu desenho. \\n',\n",
       " 'O Pequeno Principe disse-lhe que nao queria um elefante engolido por uma jiboia e sim um carneiro. Ele teve dificuldades para desenha-lo, pois fora desencorajado de desenhar quando era pequeno. Depois de varias tentativas, teve a ideia de desenha-lo dentro de uma caixa. \\n',\n",
       " 'Para surpresa do narrador, o Pequeno aceitou o desenho. Foi deste modo que o narrador travou conhecimentos com o Pequeno Principe. \\n',\n",
       " 'Ele contou-lhe que viera de um planeta, do qual o narrador imaginou ser o asteroide B612, visto pelo telescopio uma unica vez, em 1909, por um astronomo turco. \\n',\n",
       " 'O pequeno Planeta era do tamanho de uma casa. \\n',\n",
       " 'O Pequeno Principe contou o drama que ele vivia, em seu Planeta, com o baoba, arvore que cresce muito; por este motivo, ele precisava de um carneiro para comer os baobas enquanto eram pequenos. Atraves do Pequeno Principe, o narrador aprendeu a dar valor as pequenas coisas do dia-a-dia; admirar o por-do-sol, apreciar a beleza de uma flor, contemplar as estrelas? \\n',\n",
       " 'Ele acreditava que o pequeno havia viajado, segurando nas penas dos passaros selvagens, que emigravam. \\n',\n",
       " 'O Principe conta-lhe as suas aventuras em varios outros planetas: o primeiro era habitado por apenas um rei; o segundo, por um vaidoso; o terceiro, por um bebado; o quarto, por um homem de negocios; o quinto, um acendedor de lampiao; no sexto, um velho geografo que escrevia livros enormes, e, por ultimo, ele visitou o nosso Planeta Terra, onde encontrou uma serpente, que lhe prometeu manda-lo de volta ao seu planeta, atraves de uma picada. \\n',\n",
       " 'No oitavo dia da pane, o narrador havia bebido o ultimo gole de agua e, por este motivo, caminharam ate que encontraram um poco. Este poco era perto do local onde o Pequeno Principe teria que voltar ao seu planeta. \\n',\n",
       " 'A partida dele seria no dia seguinte. \\n',\n",
       " 'Falou-lhe, tambem, que a serpente havia combinado com ele de aparecer na hora exata para pica-lo. \\n',\n",
       " 'O narrador ficou triste, ao saber disto, porque tomara afeicao ao Pequeno. \\n',\n",
       " 'O Principe lhe disse para que nao sofresse, quando constatasse que o corpo dele estivesse inerte, afirmando que devemos saber olhar alem das simples aparencias. \\n',\n",
       " 'Nao havia outra forma de ele viajar, pois o seu corpo, no estado em que se encontrava, era muito pesado. \\n',\n",
       " 'Precisava da picada para que se tornasse mais leve. \\n',\n",
       " 'Chegado o momento do encontro com a serpente, o Pequeno Principe nao gritou. Aceitou corajosamente o seu destino. \\n',\n",
       " 'Tombou como uma arvore tomba. \\n',\n",
       " 'E assim, voltou para o seu planeta, enfim. O narrador, dias mais tarde, conseguiu se salvar, sentindo-se consolado porque sabia que o Pequeno Principe havia voltado para o planeta dele, pois ao raiar do dia seguinte a picada, o corpo do Pequeno nao estava mais no local. \\n',\n",
       " 'Hoje, ao olhar as estrelas, o narrador sorri, lembrando-se do seu grande Pequeno amigo.\\n']"
      ]
     },
     "execution_count": 11,
     "metadata": {},
     "output_type": "execute_result"
    }
   ],
   "source": [
    "bookFile = open('data/pequenoprincipe.txt')\n",
    "bookFile.readlines()"
   ]
  },
  {
   "cell_type": "markdown",
   "metadata": {},
   "source": [
    "### Vamos criar um arquivo e escrever nosso primeiro Hello world!"
   ]
  },
  {
   "cell_type": "code",
   "execution_count": 12,
   "metadata": {},
   "outputs": [],
   "source": [
    "helloWorld = open('data/hello.txt', 'w')\n",
    "\n",
    "helloWorld.write('Hello world!\\n')\n",
    "\n",
    "helloWorld.close()"
   ]
  },
  {
   "cell_type": "markdown",
   "metadata": {},
   "source": [
    "### Como faço para adicionar outra linha no arquivo?"
   ]
  },
  {
   "cell_type": "code",
   "execution_count": 13,
   "metadata": {},
   "outputs": [],
   "source": [
    "helloWorld = open('data/hello.txt', 'a')\n",
    "\n",
    "helloWorld.write('Olá mundo!\\n')\n",
    "\n",
    "helloWorld.close()"
   ]
  },
  {
   "cell_type": "markdown",
   "metadata": {},
   "source": [
    "### Agora  vamos ver o conteúdo do nosso arquivo"
   ]
  },
  {
   "cell_type": "code",
   "execution_count": 14,
   "metadata": {},
   "outputs": [
    {
     "data": {
      "text/plain": [
       "['Hello world!\\n', 'Olá mundo!\\n']"
      ]
     },
     "execution_count": 14,
     "metadata": {},
     "output_type": "execute_result"
    }
   ],
   "source": [
    "helloWorld = open('data/hello.txt')\n",
    "\n",
    "content = helloWorld.readlines()\n",
    "\n",
    "content"
   ]
  }
 ],
 "metadata": {
  "kernelspec": {
   "display_name": "Python 3",
   "language": "python",
   "name": "python3"
  },
  "language_info": {
   "codemirror_mode": {
    "name": "ipython",
    "version": 3
   },
   "file_extension": ".py",
   "mimetype": "text/x-python",
   "name": "python",
   "nbconvert_exporter": "python",
   "pygments_lexer": "ipython3",
   "version": "3.6.2"
  }
 },
 "nbformat": 4,
 "nbformat_minor": 2
}

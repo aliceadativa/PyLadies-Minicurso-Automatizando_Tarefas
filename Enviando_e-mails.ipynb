{
 "cells": [
  {
   "cell_type": "markdown",
   "metadata": {},
   "source": [
    "## Enviando E-Mails"
   ]
  },
  {
   "cell_type": "markdown",
   "metadata": {},
   "source": [
    "* SMTP = *Simple Mail Transfer Protocol*.\n",
    "\n",
    "\n",
    "* Define como os e-mails devem ser enviados."
   ]
  },
  {
   "cell_type": "code",
   "execution_count": 1,
   "metadata": {},
   "outputs": [],
   "source": [
    "import smtplib"
   ]
  },
  {
   "cell_type": "markdown",
   "metadata": {},
   "source": [
    "## Configurar o provedor de e-mail\n",
    "\n",
    "O nome de domínio do servidor SMTP normalmente será o nome de domínio de seu provedor de emails com SMTP. na frente."
   ]
  },
  {
   "cell_type": "code",
   "execution_count": 2,
   "metadata": {},
   "outputs": [],
   "source": [
    "smtpObj = smtplib.SMTP('smtp.gmail.com', 587)"
   ]
  },
  {
   "cell_type": "markdown",
   "metadata": {},
   "source": [
    "## Testar a conexão"
   ]
  },
  {
   "cell_type": "code",
   "execution_count": 3,
   "metadata": {},
   "outputs": [
    {
     "data": {
      "text/plain": [
       "(250,\n",
       " b'smtp.gmail.com at your service, [2804:14d:1484:4256:8054:2d61:afb5:87d6]\\nSIZE 35882577\\n8BITMIME\\nSTARTTLS\\nENHANCEDSTATUSCODES\\nPIPELINING\\nCHUNKING\\nSMTPUTF8')"
      ]
     },
     "execution_count": 3,
     "metadata": {},
     "output_type": "execute_result"
    }
   ],
   "source": [
    "smtpObj.ehlo()"
   ]
  },
  {
   "cell_type": "markdown",
   "metadata": {},
   "source": [
    "* Se retornou `250`, é porque está tudo OK."
   ]
  },
  {
   "cell_type": "markdown",
   "metadata": {},
   "source": [
    "## Precisamos deixar nossa aplicação segura utilizando criptografia TLS"
   ]
  },
  {
   "cell_type": "code",
   "execution_count": 4,
   "metadata": {},
   "outputs": [
    {
     "data": {
      "text/plain": [
       "(220, b'2.0.0 Ready to start TLS')"
      ]
     },
     "execution_count": 4,
     "metadata": {},
     "output_type": "execute_result"
    }
   ],
   "source": [
    "smtpObj.starttls()"
   ]
  },
  {
   "cell_type": "markdown",
   "metadata": {},
   "source": [
    " * O `220` no valor de retorno informa que o servidor está pronto."
   ]
  },
  {
   "cell_type": "markdown",
   "metadata": {},
   "source": [
    "## Vamos realizar login"
   ]
  },
  {
   "cell_type": "code",
   "execution_count": 5,
   "metadata": {},
   "outputs": [],
   "source": [
    "remetente = 'exemplo.python@gmail.com'"
   ]
  },
  {
   "cell_type": "code",
   "execution_count": 6,
   "metadata": {},
   "outputs": [
    {
     "data": {
      "text/plain": [
       "(235, b'2.7.0 Accepted')"
      ]
     },
     "execution_count": 6,
     "metadata": {},
     "output_type": "execute_result"
    }
   ],
   "source": [
    "smtpObj.login(remetente, 'exemplo123')"
   ]
  },
  {
   "cell_type": "markdown",
   "metadata": {},
   "source": [
    "## Agora iremos enviar nosso primeiro e-mail com Python"
   ]
  },
  {
   "cell_type": "code",
   "execution_count": 8,
   "metadata": {},
   "outputs": [
    {
     "data": {
      "text/plain": [
       "{}"
      ]
     },
     "execution_count": 8,
     "metadata": {},
     "output_type": "execute_result"
    }
   ],
   "source": [
    "body = 'Subject: So long.\\nDear Alice, so long and thanks for all the fish. Sincerely, Bob'\n",
    "\n",
    "destinatario = 'email' # Preencha o e-mail do destinatário aqui\n",
    "\n",
    "smtpObj.sendmail(remetente, destinatario,  body)"
   ]
  },
  {
   "cell_type": "markdown",
   "metadata": {},
   "source": [
    "## É bem simples essa tarefa. Mas se eu quiser enviar e-mails para mais de 1 pessoa?"
   ]
  },
  {
   "cell_type": "code",
   "execution_count": 9,
   "metadata": {},
   "outputs": [],
   "source": [
    "mailList = ['email_1', \n",
    "            'email_2'] # Preencha os e-mails dos destinatários aqui\n",
    "\n",
    "body = 'Subject: So long.\\nDear Alice, so long and thanks for all the fish. Sincerely, Bob'\n",
    "\n",
    "for mail in mailList:\n",
    "    smtpObj.sendmail(remetente, mail,  body)"
   ]
  },
  {
   "cell_type": "markdown",
   "metadata": {},
   "source": [
    "## Iremos realizar uma pequena modificação. Agora, a minha lista tem o nome da pessoa e o seu e-mail"
   ]
  },
  {
   "cell_type": "code",
   "execution_count": 10,
   "metadata": {},
   "outputs": [],
   "source": [
    "mailDict = {'name_1' : 'email_1', \n",
    "            'name_2' : 'email_2'} # Preencha os nomes e e-mails dos destinatários aqui\n",
    "\n",
    "subject = 'Subject: So long.\\n'\n",
    "\n",
    "for name, mail in mailDict.items():\n",
    "    body = subject + 'Dear ' +  name + ', so long and thanks for all the fish. Sincerely, Bob'\n",
    "    smtpObj.sendmail(remetente, mail,  body)"
   ]
  },
  {
   "cell_type": "markdown",
   "metadata": {},
   "source": [
    "## Após isso, iremos fechar a conexão"
   ]
  },
  {
   "cell_type": "code",
   "execution_count": 11,
   "metadata": {},
   "outputs": [
    {
     "data": {
      "text/plain": [
       "(221, b'2.0.0 closing connection w4-v6sm1451139uaj.8 - gsmtp')"
      ]
     },
     "execution_count": 11,
     "metadata": {},
     "output_type": "execute_result"
    }
   ],
   "source": [
    "smtpObj.quit()"
   ]
  }
 ],
 "metadata": {
  "kernelspec": {
   "display_name": "Python 3",
   "language": "python",
   "name": "python3"
  },
  "language_info": {
   "codemirror_mode": {
    "name": "ipython",
    "version": 3
   },
   "file_extension": ".py",
   "mimetype": "text/x-python",
   "name": "python",
   "nbconvert_exporter": "python",
   "pygments_lexer": "ipython3",
   "version": "3.6.2"
  }
 },
 "nbformat": 4,
 "nbformat_minor": 2
}

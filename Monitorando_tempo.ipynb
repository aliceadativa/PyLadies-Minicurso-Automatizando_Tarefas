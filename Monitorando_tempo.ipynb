{
 "cells": [
  {
   "cell_type": "markdown",
   "metadata": {},
   "source": [
    "# Monitorando tempo\n",
    "\n",
    "* O relógio de sistema de seu computador está definido com uma data, uma hora e um fuso horário específicos; \n",
    "\n",
    "\n",
    "* O módulo `time` permite que seus programas Python leiam o relógio do sistema para obter o horário atual;\n",
    "\n",
    " \n",
    "* As funções `time.time()` e `time.sleep()` são as mais úteis desse módulo."
   ]
  },
  {
   "cell_type": "code",
   "execution_count": 1,
   "metadata": {},
   "outputs": [],
   "source": [
    "import time\n",
    "import datetime"
   ]
  },
  {
   "cell_type": "markdown",
   "metadata": {},
   "source": [
    "### 1. Função `time.time()`\n",
    "\n",
    "* A **Época Unix** é uma referência de tempo comumente usada em programação:\n",
    "    * 00:00 hora de **1 de janeiro de 1970 UTC** (*Universal Time Coordinated*)\n",
    "\n",
    "\n",
    "* A função `time.time()` retorna o número de segundos desde esse momento na forma de um valor de ponto flutuante (número com um ponto decimal). Esse número é chamado de **epoch timestamp**."
   ]
  },
  {
   "cell_type": "code",
   "execution_count": 2,
   "metadata": {},
   "outputs": [
    {
     "data": {
      "text/plain": [
       "1537994495.789786"
      ]
     },
     "execution_count": 2,
     "metadata": {},
     "output_type": "execute_result"
    }
   ],
   "source": [
    "time.time()"
   ]
  },
  {
   "cell_type": "markdown",
   "metadata": {},
   "source": [
    "#### Quanto tempo uma porção de código demora para executar? \n",
    "\n",
    "* Os *epoch timestamps* podem ser usados para medir quanto tempo uma porção de código demora para executar."
   ]
  },
  {
   "cell_type": "code",
   "execution_count": 3,
   "metadata": {},
   "outputs": [],
   "source": [
    "# Calcula o produto dos 100.000 primeiros números\n",
    "\n",
    "def calcProd(): \n",
    "    product = 1\n",
    "    \n",
    "    for i in range(1, 100000):\n",
    "        product = product * i\n",
    "        \n",
    "    return product"
   ]
  },
  {
   "cell_type": "code",
   "execution_count": 4,
   "metadata": {},
   "outputs": [],
   "source": [
    "startTime = time.time()\n",
    "\n",
    "prod = calcProd()\n",
    "\n",
    "endTime = time.time()"
   ]
  },
  {
   "cell_type": "code",
   "execution_count": 5,
   "metadata": {},
   "outputs": [
    {
     "name": "stdout",
     "output_type": "stream",
     "text": [
      "Quantidade de dígitos do resultado: 456569.\n",
      "Foram necessários 3.658428192138672 segundos para o cálculo ser realizado.\n"
     ]
    }
   ],
   "source": [
    "print('Quantidade de dígitos do resultado: {}.'.format(len(str(prod))))\n",
    "print('Foram necessários {} segundos para o cálculo ser realizado.'.format(endTime - startTime))"
   ]
  },
  {
   "cell_type": "markdown",
   "metadata": {},
   "source": [
    "### 2. Função `time.sleep()`\n",
    "\n",
    "* Se for necessário fazer uma pausa em seu programa, chame a função `time.sleep()` e passe-lhe o número de **segundos** que você deseja que seu programa permaneça parado.\n",
    "\n",
    "\n",
    "* A função `time.sleep()` ficará **bloqueada** (não retornará nem deixará seu programa executar outros códigos) até que o número de segundos passados para `time.sleep()` tenha decorrido."
   ]
  },
  {
   "cell_type": "code",
   "execution_count": 6,
   "metadata": {},
   "outputs": [
    {
     "name": "stdout",
     "output_type": "stream",
     "text": [
      "Tick\n",
      "Tock\n",
      "Tick\n",
      "Tock\n",
      "Tick\n",
      "Tock\n"
     ]
    }
   ],
   "source": [
    "for i in range(3):\n",
    "    print('Tick')\n",
    "    time.sleep(3)\n",
    "    print('Tock')\n",
    "    time.sleep(3)"
   ]
  },
  {
   "cell_type": "markdown",
   "metadata": {},
   "source": [
    "### 3. Arredondando números\n",
    "\n",
    "* Ao trabalhar com tempo, frequentemente você encontrará valores de ponto flutuante com vários dígitos após o decimal.\n",
    "\n",
    "\n",
    "* Para trabalhar mais facilmente com esses valores, você poderá abreviá-los com a função `round()`."
   ]
  },
  {
   "cell_type": "code",
   "execution_count": 7,
   "metadata": {},
   "outputs": [
    {
     "data": {
      "text/plain": [
       "1537994520.809545"
      ]
     },
     "execution_count": 7,
     "metadata": {},
     "output_type": "execute_result"
    }
   ],
   "source": [
    "now = time.time()\n",
    "now"
   ]
  },
  {
   "cell_type": "code",
   "execution_count": 8,
   "metadata": {},
   "outputs": [
    {
     "data": {
      "text/plain": [
       "1537994520.81"
      ]
     },
     "execution_count": 8,
     "metadata": {},
     "output_type": "execute_result"
    }
   ],
   "source": [
    "round(now, 2)"
   ]
  },
  {
   "cell_type": "code",
   "execution_count": 9,
   "metadata": {},
   "outputs": [
    {
     "data": {
      "text/plain": [
       "1537994520.8095"
      ]
     },
     "execution_count": 9,
     "metadata": {},
     "output_type": "execute_result"
    }
   ],
   "source": [
    "round(now, 4)"
   ]
  },
  {
   "cell_type": "code",
   "execution_count": 10,
   "metadata": {},
   "outputs": [
    {
     "data": {
      "text/plain": [
       "1537994521"
      ]
     },
     "execution_count": 10,
     "metadata": {},
     "output_type": "execute_result"
    }
   ],
   "source": [
    "round(now) # Arredonda para o inteiro mais próximo"
   ]
  },
  {
   "cell_type": "markdown",
   "metadata": {},
   "source": [
    "### 4. Criando um cronômetro\n",
    "\n",
    "De modo geral, eis o que seu programa deverá fazer:\n",
    "    \n",
    "* Monitorar a quantidade de tempo decorrida entre pressionamentos da tecla `ENTER`, em que cada pressionamento de tecla iniciará uma nova rodada do timer.\n",
    "\n",
    "\n",
    "* Exibir o número da rodada, o tempo total e o tempo de duração da rodada."
   ]
  },
  {
   "cell_type": "code",
   "execution_count": 11,
   "metadata": {},
   "outputs": [
    {
     "name": "stdout",
     "output_type": "stream",
     "text": [
      "\n",
      "Inicio da cronometragem.\n",
      "\n",
      "Rodada #1: 2.35 (2.35)\n",
      "\n",
      "Rodada #2: 3.73 (1.38)\n",
      "\n",
      "Rodada #3: 7.4 (3.66)\n",
      "\n",
      "Fim\n"
     ]
    }
   ],
   "source": [
    "input() # Tecle ENTER para começar\n",
    "\n",
    "print('Inicio da cronometragem.')\n",
    "\n",
    "startTime = time.time()\n",
    "lastTime = startTime\n",
    "\n",
    "lapNum = 1\n",
    "\n",
    "# Começa a monitorar a duração das rodadas\n",
    "\n",
    "try:\n",
    "    while True:\n",
    "        input()\n",
    "        \n",
    "        lapTime = round(time.time() - lastTime, 2)\n",
    "        totalTime = round(time.time() - startTime, 2)\n",
    "        \n",
    "        print('Rodada #{}: {} ({})\\n'.format(lapNum, totalTime, lapTime), end = '')\n",
    "        \n",
    "        lapNum += 1\n",
    "        \n",
    "        lastTime = time.time() # Reinicia a última rodada\n",
    "except KeyboardInterrupt:\n",
    "    print('\\nFim')"
   ]
  },
  {
   "cell_type": "markdown",
   "metadata": {},
   "source": [
    "### 5. Módulo `datetime`\n",
    "\n",
    "* Se você quiser trabalhar ou realizar operações aritméticas com datas, você deverá usar o módulo `datetime`."
   ]
  },
  {
   "cell_type": "code",
   "execution_count": 12,
   "metadata": {},
   "outputs": [
    {
     "data": {
      "text/plain": [
       "datetime.datetime(2018, 9, 26, 16, 42, 16, 222159)"
      ]
     },
     "execution_count": 12,
     "metadata": {},
     "output_type": "execute_result"
    }
   ],
   "source": [
    "datetime.datetime.now()"
   ]
  },
  {
   "cell_type": "markdown",
   "metadata": {},
   "source": [
    "* `datetime.datetime.now()` faz um objeto `datetime` ser retornado para a data e a hora atuais;\n",
    "\n",
    "\n",
    "* Esse objeto inclui o ano, o mês, o dia, a hora, o minuto, o segundo e o microsegundo do instante atual."
   ]
  },
  {
   "cell_type": "code",
   "execution_count": 13,
   "metadata": {},
   "outputs": [],
   "source": [
    "dt = datetime.datetime(2015, 10, 21, 16, 29, 0)"
   ]
  },
  {
   "cell_type": "code",
   "execution_count": 14,
   "metadata": {},
   "outputs": [
    {
     "data": {
      "text/plain": [
       "(2015, 10, 21)"
      ]
     },
     "execution_count": 14,
     "metadata": {},
     "output_type": "execute_result"
    }
   ],
   "source": [
    "dt.year, dt.month, dt.day"
   ]
  },
  {
   "cell_type": "code",
   "execution_count": 15,
   "metadata": {},
   "outputs": [
    {
     "data": {
      "text/plain": [
       "(16, 29, 0)"
      ]
     },
     "execution_count": 15,
     "metadata": {},
     "output_type": "execute_result"
    }
   ],
   "source": [
    "dt.hour, dt.minute, dt.second"
   ]
  },
  {
   "cell_type": "markdown",
   "metadata": {},
   "source": [
    "* Um timestamp pode ser convertido em um objeto `datetime` com a função `datetime.datetime.fromtimestamp()`."
   ]
  },
  {
   "cell_type": "code",
   "execution_count": 16,
   "metadata": {},
   "outputs": [
    {
     "data": {
      "text/plain": [
       "datetime.datetime(1970, 1, 12, 9, 46, 40)"
      ]
     },
     "execution_count": 16,
     "metadata": {},
     "output_type": "execute_result"
    }
   ],
   "source": [
    "datetime.datetime.fromtimestamp(1000000)"
   ]
  },
  {
   "cell_type": "markdown",
   "metadata": {},
   "source": [
    "* As expressões `datetime.datetime.now()` e `datetime.datetime.fromtimestamp(time.time())` fazem o mesmo."
   ]
  },
  {
   "cell_type": "code",
   "execution_count": 17,
   "metadata": {},
   "outputs": [
    {
     "data": {
      "text/plain": [
       "datetime.datetime(2018, 9, 26, 16, 42, 16, 313999)"
      ]
     },
     "execution_count": 17,
     "metadata": {},
     "output_type": "execute_result"
    }
   ],
   "source": [
    "datetime.datetime.fromtimestamp(time.time())"
   ]
  },
  {
   "cell_type": "markdown",
   "metadata": {},
   "source": [
    "* Os objetos `datetime` podem ser comparados uns aos outros com os operadores de comparação para descobrir qual deles é anterior ao outro."
   ]
  },
  {
   "cell_type": "code",
   "execution_count": 18,
   "metadata": {},
   "outputs": [],
   "source": [
    "halloween2015 = datetime.datetime(2015, 10, 31, 0, 0, 0)\n",
    "newyears2016 = datetime.datetime(2016, 1, 1, 0, 0, 0)\n",
    "out31_2015 = datetime.datetime(2015, 10, 31, 0, 0, 0)"
   ]
  },
  {
   "cell_type": "code",
   "execution_count": 19,
   "metadata": {},
   "outputs": [
    {
     "data": {
      "text/plain": [
       "True"
      ]
     },
     "execution_count": 19,
     "metadata": {},
     "output_type": "execute_result"
    }
   ],
   "source": [
    "halloween2015 == out31_2015"
   ]
  },
  {
   "cell_type": "code",
   "execution_count": 20,
   "metadata": {},
   "outputs": [
    {
     "data": {
      "text/plain": [
       "False"
      ]
     },
     "execution_count": 20,
     "metadata": {},
     "output_type": "execute_result"
    }
   ],
   "source": [
    "halloween2015 > newyears2016"
   ]
  },
  {
   "cell_type": "code",
   "execution_count": 21,
   "metadata": {},
   "outputs": [
    {
     "data": {
      "text/plain": [
       "True"
      ]
     },
     "execution_count": 21,
     "metadata": {},
     "output_type": "execute_result"
    }
   ],
   "source": [
    "newyears2016 > halloween2015"
   ]
  },
  {
   "cell_type": "code",
   "execution_count": 22,
   "metadata": {},
   "outputs": [
    {
     "data": {
      "text/plain": [
       "True"
      ]
     },
     "execution_count": 22,
     "metadata": {},
     "output_type": "execute_result"
    }
   ],
   "source": [
    "newyears2016 != out31_2015"
   ]
  },
  {
   "cell_type": "markdown",
   "metadata": {},
   "source": [
    "### 6. Tipo de dado `timedelta`\n",
    "\n",
    "* O módulo `datetime` também disponibiliza um tipo de dado `timedelta` que representa uma **duração**, em vez de um instante de tempo."
   ]
  },
  {
   "cell_type": "code",
   "execution_count": 23,
   "metadata": {},
   "outputs": [],
   "source": [
    "delta = datetime.timedelta(days = 11, \n",
    "                           hours = 10, \n",
    "                           minutes = 9, \n",
    "                           seconds = 8)"
   ]
  },
  {
   "cell_type": "markdown",
   "metadata": {},
   "source": [
    "* A função `datetime.timedelta()` aceita os argumentos nomeados `weeks`, `days`, `hours`, `minutes`, `seconds`, `milliseconds` e `microseconds`.\n",
    "\n",
    "\n",
    "* Não há nenhum argumento nomeado `month` ou `year`, pois um mês ou um ano corresponde a uma quantidade variável de tempo de acordo com o mês ou o ano em particular."
   ]
  },
  {
   "cell_type": "code",
   "execution_count": 24,
   "metadata": {},
   "outputs": [
    {
     "data": {
      "text/plain": [
       "(11, 36548, 0)"
      ]
     },
     "execution_count": 24,
     "metadata": {},
     "output_type": "execute_result"
    }
   ],
   "source": [
    "delta.days, delta.seconds, delta.microseconds"
   ]
  },
  {
   "cell_type": "markdown",
   "metadata": {},
   "source": [
    "* Um objeto `timedelta` contém a duração total representada em dias, segundos e microsegundos."
   ]
  },
  {
   "cell_type": "code",
   "execution_count": 25,
   "metadata": {},
   "outputs": [
    {
     "data": {
      "text/plain": [
       "986948.0"
      ]
     },
     "execution_count": 25,
     "metadata": {},
     "output_type": "execute_result"
    }
   ],
   "source": [
    "delta.total_seconds()"
   ]
  },
  {
   "cell_type": "code",
   "execution_count": 26,
   "metadata": {},
   "outputs": [
    {
     "data": {
      "text/plain": [
       "'11 days, 10:09:08'"
      ]
     },
     "execution_count": 26,
     "metadata": {},
     "output_type": "execute_result"
    }
   ],
   "source": [
    "str(delta)"
   ]
  },
  {
   "cell_type": "markdown",
   "metadata": {},
   "source": [
    "#### Trabalhando com operações aritméticas"
   ]
  },
  {
   "cell_type": "code",
   "execution_count": 27,
   "metadata": {},
   "outputs": [
    {
     "data": {
      "text/plain": [
       "datetime.datetime(2018, 9, 26, 16, 42, 16, 495314)"
      ]
     },
     "execution_count": 27,
     "metadata": {},
     "output_type": "execute_result"
    }
   ],
   "source": [
    "dt = datetime.datetime.now()\n",
    "dt"
   ]
  },
  {
   "cell_type": "code",
   "execution_count": 28,
   "metadata": {},
   "outputs": [
    {
     "data": {
      "text/plain": [
       "datetime.datetime(2021, 6, 22, 16, 42, 16, 495314)"
      ]
     },
     "execution_count": 28,
     "metadata": {},
     "output_type": "execute_result"
    }
   ],
   "source": [
    "milDias = datetime.timedelta(days = 1000)\n",
    "dt + milDias"
   ]
  },
  {
   "cell_type": "markdown",
   "metadata": {},
   "source": [
    "### 7. Fazendo uma pausa até uma data específica "
   ]
  },
  {
   "cell_type": "code",
   "execution_count": null,
   "metadata": {},
   "outputs": [],
   "source": [
    "halloween2018 = datetime.datetime(2018, 10, 31, 0, 0, 0)\n",
    "\n",
    "while datetime.datetime.now() < halloween2018:\n",
    "    time.sleep(1)"
   ]
  },
  {
   "cell_type": "markdown",
   "metadata": {},
   "source": [
    "### 8. Datas e Strings\n",
    "\n",
    "* Utilize o método `strftime()` para exibir um objeto `datetime` como uma string."
   ]
  },
  {
   "cell_type": "markdown",
   "metadata": {},
   "source": [
    "#### Convertendo de datas para strings"
   ]
  },
  {
   "cell_type": "code",
   "execution_count": 30,
   "metadata": {},
   "outputs": [
    {
     "data": {
      "text/plain": [
       "datetime.datetime(2015, 10, 21, 16, 29)"
      ]
     },
     "execution_count": 30,
     "metadata": {},
     "output_type": "execute_result"
    }
   ],
   "source": [
    "out_21_2015 = datetime.datetime(2015, 10, 21, 16, 29, 0)\n",
    "out_21_2015"
   ]
  },
  {
   "cell_type": "markdown",
   "metadata": {},
   "source": [
    "* Diretivas de `strftime()`:\n",
    "    * `%Y` --- Ano com o século, como em '2014'.\n",
    "    * `%y` --- Ano sem o século, de '00' a '99' (de 1970 a 2069)\n",
    "    * `%m` --- Mês como um número decimal, de '01' a '12'.\n",
    "    * `%d` --- Dia do mês, de '01' a '31'.\n",
    "    * `%H` --- Hora (relógio com 24 horas), de '00' a '23'.\n",
    "    * `%M` --- Minutos, de '00' a '59'.\n",
    "    * `%S` --- Segundo, de '00' a '59'.\n",
    "    * `%I` --- Hora (relógio com 12 horas) de '01' a '12'.\n",
    "    * `%p` --- 'AM' ou 'PM'.\n",
    "    * `%B` --- Nome completo do mês, como em 'November'."
   ]
  },
  {
   "cell_type": "code",
   "execution_count": 31,
   "metadata": {},
   "outputs": [
    {
     "data": {
      "text/plain": [
       "'2015/10/21 16:29:00'"
      ]
     },
     "execution_count": 31,
     "metadata": {},
     "output_type": "execute_result"
    }
   ],
   "source": [
    "out_21_2015.strftime('%Y/%m/%d %H:%M:%S')"
   ]
  },
  {
   "cell_type": "code",
   "execution_count": 32,
   "metadata": {},
   "outputs": [
    {
     "data": {
      "text/plain": [
       "'04:29 PM'"
      ]
     },
     "execution_count": 32,
     "metadata": {},
     "output_type": "execute_result"
    }
   ],
   "source": [
    "out_21_2015.strftime('%I:%M %p')"
   ]
  },
  {
   "cell_type": "code",
   "execution_count": 33,
   "metadata": {},
   "outputs": [
    {
     "data": {
      "text/plain": [
       "\"October of '15\""
      ]
     },
     "execution_count": 33,
     "metadata": {},
     "output_type": "execute_result"
    }
   ],
   "source": [
    "out_21_2015.strftime(\"%B of '%y\")"
   ]
  },
  {
   "cell_type": "markdown",
   "metadata": {},
   "source": [
    "#### Convertendo de strings para datas"
   ]
  },
  {
   "cell_type": "code",
   "execution_count": 34,
   "metadata": {},
   "outputs": [
    {
     "data": {
      "text/plain": [
       "datetime.datetime(2015, 10, 21, 0, 0)"
      ]
     },
     "execution_count": 34,
     "metadata": {},
     "output_type": "execute_result"
    }
   ],
   "source": [
    "datetime.datetime.strptime('October 21, 2015', '%B %d, %Y')"
   ]
  },
  {
   "cell_type": "code",
   "execution_count": 35,
   "metadata": {},
   "outputs": [
    {
     "data": {
      "text/plain": [
       "datetime.datetime(2015, 10, 21, 16, 29)"
      ]
     },
     "execution_count": 35,
     "metadata": {},
     "output_type": "execute_result"
    }
   ],
   "source": [
    "datetime.datetime.strptime('2015/10/21 16:29:00', '%Y/%m/%d %H:%M:%S')"
   ]
  },
  {
   "cell_type": "code",
   "execution_count": 36,
   "metadata": {},
   "outputs": [
    {
     "data": {
      "text/plain": [
       "datetime.datetime(2015, 10, 1, 0, 0)"
      ]
     },
     "execution_count": 36,
     "metadata": {},
     "output_type": "execute_result"
    }
   ],
   "source": [
    "datetime.datetime.strptime(\"October of '15\", \"%B of '%y\")"
   ]
  }
 ],
 "metadata": {
  "kernelspec": {
   "display_name": "Python 3",
   "language": "python",
   "name": "python3"
  },
  "language_info": {
   "codemirror_mode": {
    "name": "ipython",
    "version": 3
   },
   "file_extension": ".py",
   "mimetype": "text/x-python",
   "name": "python",
   "nbconvert_exporter": "python",
   "pygments_lexer": "ipython3",
   "version": "3.6.2"
  }
 },
 "nbformat": 4,
 "nbformat_minor": 2
}
